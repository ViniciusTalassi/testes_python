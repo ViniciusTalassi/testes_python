{
 "cells": [
  {
   "cell_type": "code",
   "execution_count": 1,
   "metadata": {},
   "outputs": [
    {
     "name": "stdout",
     "output_type": "stream",
     "text": [
      "A soma entre 5 e 10 vale 15\n"
     ]
    }
   ],
   "source": [
    "n1 = int(input('Digite um número:'))\n",
    "n2 = int(input('Digite mais um número:'))\n",
    "s = n1+n2\n",
    "print('A soma entre {} e {} vale {}'.format(n1,n2,s))"
   ]
  }
 ],
 "metadata": {
  "kernelspec": {
   "display_name": "Python 3",
   "language": "python",
   "name": "python3"
  },
  "language_info": {
   "codemirror_mode": {
    "name": "ipython",
    "version": 3
   },
   "file_extension": ".py",
   "mimetype": "text/x-python",
   "name": "python",
   "nbconvert_exporter": "python",
   "pygments_lexer": "ipython3",
   "version": "3.13.1"
  }
 },
 "nbformat": 4,
 "nbformat_minor": 2
}
