{
 "cells": [
  {
   "cell_type": "code",
   "execution_count": 5,
   "metadata": {},
   "outputs": [
    {
     "name": "stdout",
     "output_type": "stream",
     "text": [
      "A média entre 5.5 e 2.0 é igual a 3.8\n"
     ]
    }
   ],
   "source": [
    "n1 = float(input('Primeira nota do aluno: '))\n",
    "n2 = float(input('Segunda nota do aluno: '))\n",
    "m = (n1 + n2) / 2\n",
    "print('A média entre {:.1f} e {:.1f} é igual a {:.1f}'.format(n1, n2, m))"
   ]
  }
 ],
 "metadata": {
  "kernelspec": {
   "display_name": "Python 3",
   "language": "python",
   "name": "python3"
  },
  "language_info": {
   "codemirror_mode": {
    "name": "ipython",
    "version": 3
   },
   "file_extension": ".py",
   "mimetype": "text/x-python",
   "name": "python",
   "nbconvert_exporter": "python",
   "pygments_lexer": "ipython3",
   "version": "3.13.1"
  }
 },
 "nbformat": 4,
 "nbformat_minor": 2
}
