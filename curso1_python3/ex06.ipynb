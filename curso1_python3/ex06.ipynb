{
 "cells": [
  {
   "cell_type": "code",
   "execution_count": 8,
   "metadata": {},
   "outputs": [
    {
     "name": "stdout",
     "output_type": "stream",
     "text": [
      "A distância de 3.0m corresponde a \n",
      " 0.003km \n",
      " 0.03hm \n",
      " 0.3dam \n",
      " 30dm \n",
      " 300cm \n",
      " 3000mm\n"
     ]
    }
   ],
   "source": [
    "m = float(input('Uma distância em metros: '))\n",
    "km = m / 1000\n",
    "hm = m / 100\n",
    "dam = m / 10\n",
    "dm = m * 10\n",
    "cm = m * 100\n",
    "mm = m * 1000\n",
    "print('A distância de {}m corresponde a \\n {}km \\n {}hm \\n {}dam \\n {:.0f}dm \\n {:.0f}cm \\n {:.0f}mm'.format(m, km, hm, dam, dm, cm, mm))"
   ]
  }
 ],
 "metadata": {
  "kernelspec": {
   "display_name": "Python 3",
   "language": "python",
   "name": "python3"
  },
  "language_info": {
   "codemirror_mode": {
    "name": "ipython",
    "version": 3
   },
   "file_extension": ".py",
   "mimetype": "text/x-python",
   "name": "python",
   "nbconvert_exporter": "python",
   "pygments_lexer": "ipython3",
   "version": "3.13.1"
  }
 },
 "nbformat": 4,
 "nbformat_minor": 2
}
