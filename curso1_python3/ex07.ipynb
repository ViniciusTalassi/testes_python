{
 "cells": [
  {
   "cell_type": "code",
   "execution_count": 4,
   "metadata": {},
   "outputs": [
    {
     "name": "stdout",
     "output_type": "stream",
     "text": [
      "------------\n",
      "12 X  1 = 12\n",
      "12 X  2 = 24\n",
      "12 X  3 = 36\n",
      "12 X  4 = 48\n",
      "12 X  5 = 60\n",
      "12 X  6 = 72\n",
      "12 X  7 = 84\n",
      "12 X  8 = 96\n",
      "12 X  9 = 108\n",
      "12 X 10 = 120\n",
      "------------\n"
     ]
    }
   ],
   "source": [
    "n = int(input('Digite um número para ver sua tabuada: '))\n",
    "print('-'*12)\n",
    "print('{} X {:2} = {}'.format(n, 1, n*1))\n",
    "print('{} X {:2} = {}'.format(n, 2, n*2))\n",
    "print('{} X {:2} = {}'.format(n, 3, n*3))\n",
    "print('{} X {:2} = {}'.format(n, 4, n*4))\n",
    "print('{} X {:2} = {}'.format(n, 5, n*5))\n",
    "print('{} X {:2} = {}'.format(n, 6, n*6))\n",
    "print('{} X {:2} = {}'.format(n, 7, n*7))\n",
    "print('{} X {:2} = {}'.format(n, 8, n*8))\n",
    "print('{} X {:2} = {}'.format(n, 9, n*9))\n",
    "print('{} X {:2} = {}'.format(n, 10, n*10))\n",
    "print('-'*12)"
   ]
  }
 ],
 "metadata": {
  "kernelspec": {
   "display_name": "Python 3",
   "language": "python",
   "name": "python3"
  },
  "language_info": {
   "codemirror_mode": {
    "name": "ipython",
    "version": 3
   },
   "file_extension": ".py",
   "mimetype": "text/x-python",
   "name": "python",
   "nbconvert_exporter": "python",
   "pygments_lexer": "ipython3",
   "version": "3.13.1"
  }
 },
 "nbformat": 4,
 "nbformat_minor": 2
}
