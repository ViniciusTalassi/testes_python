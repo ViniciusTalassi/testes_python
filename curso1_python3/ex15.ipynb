{
 "cells": [
  {
   "cell_type": "code",
   "execution_count": 4,
   "metadata": {},
   "outputs": [
    {
     "name": "stdout",
     "output_type": "stream",
     "text": [
      "A hipotenusa vai medir 3.20\n"
     ]
    }
   ],
   "source": [
    "import math\n",
    "co = float(input('Comprimento do cateto oposto: '))\n",
    "ca = float(input('Comprimento do cateto adjacente: '))\n",
    "hi = math.hypot(co, ca)\n",
    "print('A hipotenusa vai medir {:.2f}'.format(hi))"
   ]
  }
 ],
 "metadata": {
  "kernelspec": {
   "display_name": "Python 3",
   "language": "python",
   "name": "python3"
  },
  "language_info": {
   "codemirror_mode": {
    "name": "ipython",
    "version": 3
   },
   "file_extension": ".py",
   "mimetype": "text/x-python",
   "name": "python",
   "nbconvert_exporter": "python",
   "pygments_lexer": "ipython3",
   "version": "3.13.1"
  }
 },
 "nbformat": 4,
 "nbformat_minor": 2
}
