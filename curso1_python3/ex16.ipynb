{
 "cells": [
  {
   "cell_type": "code",
   "execution_count": 2,
   "metadata": {},
   "outputs": [
    {
     "name": "stdout",
     "output_type": "stream",
     "text": [
      "O ângulo de 30.0 tem o SENO de 0.50\n",
      "O ângulo de 30.0 tem o COSSENO de 0.87\n",
      "O ângulo de 30.0 tem o TANGENTE de 0.58\n"
     ]
    }
   ],
   "source": [
    "from math import radians, sin, cos, tan\n",
    "an = float(input('Digite o ângulo que você deseja: '))\n",
    "seno = sin(radians(an))\n",
    "print('O ângulo de {} tem o SENO de {:.2f}'.format(an, seno))\n",
    "cos = cos(radians(an))\n",
    "print('O ângulo de {} tem o COSSENO de {:.2f}'.format(an, cos))\n",
    "tan = tan(radians(an))\n",
    "print('O ângulo de {} tem o TANGENTE de {:.2f}'.format(an, tan))"
   ]
  }
 ],
 "metadata": {
  "kernelspec": {
   "display_name": "Python 3",
   "language": "python",
   "name": "python3"
  },
  "language_info": {
   "codemirror_mode": {
    "name": "ipython",
    "version": 3
   },
   "file_extension": ".py",
   "mimetype": "text/x-python",
   "name": "python",
   "nbconvert_exporter": "python",
   "pygments_lexer": "ipython3",
   "version": "3.13.1"
  }
 },
 "nbformat": 4,
 "nbformat_minor": 2
}
