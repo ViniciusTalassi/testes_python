{
 "cells": [
  {
   "cell_type": "code",
   "execution_count": 4,
   "metadata": {},
   "outputs": [
    {
     "name": "stdout",
     "output_type": "stream",
     "text": [
      "O aluno escolhido foi Ton\n"
     ]
    }
   ],
   "source": [
    "from random import choice\n",
    "a1 = input('Primeiro aluno')\n",
    "a2 = input('Segundo aluno')\n",
    "a3 = input('Terceiro aluno')\n",
    "a4 = input('Quarto aluno')\n",
    "lista = [a1, a2, a3, a4]\n",
    "escolhido = choice(lista)\n",
    "print('O aluno escolhido foi {}'.format(escolhido))"
   ]
  }
 ],
 "metadata": {
  "kernelspec": {
   "display_name": "Python 3",
   "language": "python",
   "name": "python3"
  },
  "language_info": {
   "codemirror_mode": {
    "name": "ipython",
    "version": 3
   },
   "file_extension": ".py",
   "mimetype": "text/x-python",
   "name": "python",
   "nbconvert_exporter": "python",
   "pygments_lexer": "ipython3",
   "version": "3.13.1"
  }
 },
 "nbformat": 4,
 "nbformat_minor": 2
}
