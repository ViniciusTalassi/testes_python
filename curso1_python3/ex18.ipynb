{
 "cells": [
  {
   "cell_type": "code",
   "execution_count": 1,
   "metadata": {},
   "outputs": [
    {
     "name": "stdout",
     "output_type": "stream",
     "text": [
      "A ordem de apresentação será \n",
      "['Pedro', 'José', 'Ana', 'Paula']\n"
     ]
    }
   ],
   "source": [
    "from random import shuffle\n",
    "a1 = input('Primeiro aluno')\n",
    "a2 = input('Segundo aluno')\n",
    "a3 = input('Terceiro aluno')\n",
    "a4 = input('Quarto aluno')\n",
    "lista = [a1, a2, a3, a4]\n",
    "shuffle(lista)\n",
    "print('A ordem de apresentação será ')\n",
    "print(lista)"
   ]
  }
 ],
 "metadata": {
  "kernelspec": {
   "display_name": "Python 3",
   "language": "python",
   "name": "python3"
  },
  "language_info": {
   "codemirror_mode": {
    "name": "ipython",
    "version": 3
   },
   "file_extension": ".py",
   "mimetype": "text/x-python",
   "name": "python",
   "nbconvert_exporter": "python",
   "pygments_lexer": "ipython3",
   "version": "3.13.1"
  }
 },
 "nbformat": 4,
 "nbformat_minor": 2
}
