{
 "cells": [
  {
   "cell_type": "code",
   "execution_count": 17,
   "metadata": {},
   "outputs": [
    {
     "name": "stdout",
     "output_type": "stream",
     "text": [
      "Analisando seu nome...\n",
      "Seu nome em maíusculas é VINICIUS TALASSI GOBO PAGNANI\n",
      "Seu nome em minúsculas é vinicius talassi gobo pagnani\n",
      "Seu nome ao todo tem 26 letras\n",
      "Seu primeiro nome é Vinicius e ele tem 8 letras\n"
     ]
    }
   ],
   "source": [
    "n = input('Digite seu nome completo: ').strip()\n",
    "print('Analisando seu nome...')\n",
    "print('Seu nome em maíusculas é {}'.format(n.upper()))\n",
    "print('Seu nome em minúsculas é {}'.format(n.lower()))\n",
    "print('Seu nome ao todo tem {} letras'.format(len(n) - n.count(' ')))\n",
    "separa = n.split()\n",
    "print('Seu primeiro nome é {} e ele tem {} letras'.format(separa[0], len(separa[0])))"
   ]
  }
 ],
 "metadata": {
  "kernelspec": {
   "display_name": "Python 3",
   "language": "python",
   "name": "python3"
  },
  "language_info": {
   "codemirror_mode": {
    "name": "ipython",
    "version": 3
   },
   "file_extension": ".py",
   "mimetype": "text/x-python",
   "name": "python",
   "nbconvert_exporter": "python",
   "pygments_lexer": "ipython3",
   "version": "3.13.1"
  }
 },
 "nbformat": 4,
 "nbformat_minor": 2
}
