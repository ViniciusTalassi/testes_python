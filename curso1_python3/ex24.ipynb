{
 "cells": [
  {
   "cell_type": "code",
   "execution_count": 3,
   "metadata": {},
   "outputs": [
    {
     "name": "stdout",
     "output_type": "stream",
     "text": [
      "A letra A aparece 4 vezes na frase.\n",
      "A primeira letra A apareceu na posição 1\n",
      "A última letra A apareceu na posição 7\n"
     ]
    }
   ],
   "source": [
    "frase = input('Digite uma frase: ').upper().strip()\n",
    "print('A letra A aparece {} vezes na frase.'.format(frase.count('A')))\n",
    "print('A primeira letra A apareceu na posição {}'.format(frase.find('A')+1))\n",
    "print('A última letra A apareceu na posição {}'.format(frase.rfind('A')+1))"
   ]
  }
 ],
 "metadata": {
  "kernelspec": {
   "display_name": "Python 3",
   "language": "python",
   "name": "python3"
  },
  "language_info": {
   "codemirror_mode": {
    "name": "ipython",
    "version": 3
   },
   "file_extension": ".py",
   "mimetype": "text/x-python",
   "name": "python",
   "nbconvert_exporter": "python",
   "pygments_lexer": "ipython3",
   "version": "3.13.1"
  }
 },
 "nbformat": 4,
 "nbformat_minor": 2
}
