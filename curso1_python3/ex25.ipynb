{
 "cells": [
  {
   "cell_type": "code",
   "execution_count": 1,
   "metadata": {},
   "outputs": [
    {
     "name": "stdout",
     "output_type": "stream",
     "text": [
      "Muito prazer em te conhecer!\n",
      "Seu primeiro nome é Vinicius\n",
      "Seu último nome é Pagnani\n"
     ]
    }
   ],
   "source": [
    "n = input('Digite seu nome completo: ')\n",
    "nome = n.split()\n",
    "print('Muito prazer em te conhecer!')\n",
    "print('Seu primeiro nome é {}'.format(nome[0]))\n",
    "print('Seu último nome é {}'.format(nome[len(nome)-1]))"
   ]
  }
 ],
 "metadata": {
  "kernelspec": {
   "display_name": "Python 3",
   "language": "python",
   "name": "python3"
  },
  "language_info": {
   "codemirror_mode": {
    "name": "ipython",
    "version": 3
   },
   "file_extension": ".py",
   "mimetype": "text/x-python",
   "name": "python",
   "nbconvert_exporter": "python",
   "pygments_lexer": "ipython3",
   "version": "3.13.1"
  }
 },
 "nbformat": 4,
 "nbformat_minor": 2
}
