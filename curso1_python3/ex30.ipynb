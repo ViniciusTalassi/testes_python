{
 "cells": [
  {
   "cell_type": "code",
   "execution_count": 3,
   "metadata": {},
   "outputs": [
    {
     "name": "stdout",
     "output_type": "stream",
     "text": [
      "Você está prestes a começar uma viagem de 100Km.\n",
      "E o preço da sua passagem será de R$50.00\n"
     ]
    }
   ],
   "source": [
    "dis = int(input('Qual é a distância da sua viagem? '))\n",
    "print('Você está prestes a começar uma viagem de {}Km.'.format(dis))\n",
    "preço = dis * 0.50 if dis <= 200 else dis * 0.45\n",
    "print('E o preço da sua passagem será de R${:.2f}'.format(preço))"
   ]
  }
 ],
 "metadata": {
  "kernelspec": {
   "display_name": "Python 3",
   "language": "python",
   "name": "python3"
  },
  "language_info": {
   "codemirror_mode": {
    "name": "ipython",
    "version": 3
   },
   "file_extension": ".py",
   "mimetype": "text/x-python",
   "name": "python",
   "nbconvert_exporter": "python",
   "pygments_lexer": "ipython3",
   "version": "3.13.1"
  }
 },
 "nbformat": 4,
 "nbformat_minor": 2
}
