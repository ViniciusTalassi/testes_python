{
 "cells": [
  {
   "cell_type": "code",
   "execution_count": 3,
   "metadata": {},
   "outputs": [
    {
     "name": "stdout",
     "output_type": "stream",
     "text": [
      "Quem ganhava R$10000.00 passa a ganhar R$11000.00 agora\n"
     ]
    }
   ],
   "source": [
    "s = float(input('Qual é o salário do funcionário? R$'))\n",
    "if s <= 1250:\n",
    "    novo = s + (s * 15 / 100)\n",
    "else:\n",
    "    novo = s + (s * 10 / 100)\n",
    "print('Quem ganhava R${:.2f} passa a ganhar R${:.2f} agora'.format(s, novo))"
   ]
  }
 ],
 "metadata": {
  "kernelspec": {
   "display_name": "Python 3",
   "language": "python",
   "name": "python3"
  },
  "language_info": {
   "codemirror_mode": {
    "name": "ipython",
    "version": 3
   },
   "file_extension": ".py",
   "mimetype": "text/x-python",
   "name": "python",
   "nbconvert_exporter": "python",
   "pygments_lexer": "ipython3",
   "version": "3.13.1"
  }
 },
 "nbformat": 4,
 "nbformat_minor": 2
}
