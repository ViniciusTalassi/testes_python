{
 "cells": [
  {
   "cell_type": "code",
   "execution_count": 6,
   "metadata": {},
   "outputs": [
    {
     "name": "stdout",
     "output_type": "stream",
     "text": [
      "O dobro de 18 vale 36.\n",
      "O triplo de 18 vale 54.\n",
      "A raiz quadrada de 18 vale 4.24.\n"
     ]
    }
   ],
   "source": [
    "n = int(input('Digite um número: '))\n",
    "d = n * 2\n",
    "t = n * 3\n",
    "r = n ** (1/2)\n",
    "print('O dobro de {} vale {}.'.format(n, d))\n",
    "print('O triplo de {} vale {}.'.format(n, t))\n",
    "print('A raiz quadrada de {} vale {:.2f}.'.format(n, r))"
   ]
  }
 ],
 "metadata": {
  "kernelspec": {
   "display_name": "Python 3",
   "language": "python",
   "name": "python3"
  },
  "language_info": {
   "codemirror_mode": {
    "name": "ipython",
    "version": 3
   },
   "file_extension": ".py",
   "mimetype": "text/x-python",
   "name": "python",
   "nbconvert_exporter": "python",
   "pygments_lexer": "ipython3",
   "version": "3.13.1"
  }
 },
 "nbformat": 4,
 "nbformat_minor": 2
}
