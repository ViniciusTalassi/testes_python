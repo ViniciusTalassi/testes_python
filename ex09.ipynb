{
 "cells": [
  {
   "cell_type": "code",
   "execution_count": 5,
   "metadata": {},
   "outputs": [
    {
     "name": "stdout",
     "output_type": "stream",
     "text": [
      "Sua parede tem a dimensão de 5.0x5.0 e sua área é de 25.0m².\n",
      "Para pintar essa parede, você precisará de 12.5l de tinta.\n"
     ]
    }
   ],
   "source": [
    "l = float(input('Largura da parede: '))\n",
    "a = float(input('Altura da parede: '))\n",
    "area = l * a\n",
    "print('Sua parede tem a dimensão de {}x{} e sua área é de {}m².'.format(l, a, area))\n",
    "tinta = area / 2\n",
    "print('Para pintar essa parede, você precisará de {}l de tinta.'.format(tinta))"
   ]
  }
 ],
 "metadata": {
  "kernelspec": {
   "display_name": "Python 3",
   "language": "python",
   "name": "python3"
  },
  "language_info": {
   "codemirror_mode": {
    "name": "ipython",
    "version": 3
   },
   "file_extension": ".py",
   "mimetype": "text/x-python",
   "name": "python",
   "nbconvert_exporter": "python",
   "pygments_lexer": "ipython3",
   "version": "3.13.1"
  }
 },
 "nbformat": 4,
 "nbformat_minor": 2
}
