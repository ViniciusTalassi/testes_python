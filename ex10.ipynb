{
 "cells": [
  {
   "cell_type": "code",
   "execution_count": 1,
   "metadata": {},
   "outputs": [
    {
     "name": "stdout",
     "output_type": "stream",
     "text": [
      "O produto que custava R$927.23, com o desconto de 5% vale R$880.87\n"
     ]
    }
   ],
   "source": [
    "p = float(input('Qual é o preço do produto? R$'))\n",
    "d = p - (p * 5 / 100)\n",
    "print('O produto que custava R${:.2f}, com o desconto de 5% vale R${:.2f}'.format(p, d))"
   ]
  }
 ],
 "metadata": {
  "kernelspec": {
   "display_name": "Python 3",
   "language": "python",
   "name": "python3"
  },
  "language_info": {
   "codemirror_mode": {
    "name": "ipython",
    "version": 3
   },
   "file_extension": ".py",
   "mimetype": "text/x-python",
   "name": "python",
   "nbconvert_exporter": "python",
   "pygments_lexer": "ipython3",
   "version": "3.13.1"
  }
 },
 "nbformat": 4,
 "nbformat_minor": 2
}
