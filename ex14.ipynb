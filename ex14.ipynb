{
 "cells": [
  {
   "cell_type": "code",
   "execution_count": 39,
   "metadata": {},
   "outputs": [
    {
     "name": "stdout",
     "output_type": "stream",
     "text": [
      "O valor digitado foi 54.1545 e a sua porção inteira é 54\n"
     ]
    }
   ],
   "source": [
    "'''from math import trunc\n",
    "n = float(input('Digite um número: '))\n",
    "i = trunc(n)\n",
    "print('O número {} tem a parte Inteira {}'.format(n, i))'''\n",
    "\n",
    "num = float(input('Digite um valor: '))\n",
    "print('O valor digitado foi {} e a sua porção inteira é {}'.format(num, int(num)))"
   ]
  }
 ],
 "metadata": {
  "kernelspec": {
   "display_name": "Python 3",
   "language": "python",
   "name": "python3"
  },
  "language_info": {
   "codemirror_mode": {
    "name": "ipython",
    "version": 3
   },
   "file_extension": ".py",
   "mimetype": "text/x-python",
   "name": "python",
   "nbconvert_exporter": "python",
   "pygments_lexer": "ipython3",
   "version": "3.13.1"
  }
 },
 "nbformat": 4,
 "nbformat_minor": 2
}
