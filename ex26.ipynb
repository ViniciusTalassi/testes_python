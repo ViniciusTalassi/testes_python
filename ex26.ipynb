{
 "cells": [
  {
   "cell_type": "code",
   "execution_count": 11,
   "metadata": {},
   "outputs": [
    {
     "name": "stdout",
     "output_type": "stream",
     "text": [
      "A sua média foi 7.5\n",
      "PARABÉNS\n"
     ]
    }
   ],
   "source": [
    "n1 = float(input('Digite a primeira nota: '))\n",
    "n2 = float(input('Digite a segunda nota: '))\n",
    "m = (n1 + n2)/2\n",
    "print('A sua média foi {:.1f}'.format(m))\n",
    "print('PARABÉNS' if m >= 6 else 'ESTUDE MAIS!')\n",
    "'''if m >= 6.0:\n",
    "    print('Sua média foi boa! PARABÉNS!')\n",
    "else:\n",
    "    print('Sua média foi ruim! ESTUDE MAIS!')'''"
   ]
  }
 ],
 "metadata": {
  "kernelspec": {
   "display_name": "Python 3",
   "language": "python",
   "name": "python3"
  },
  "language_info": {
   "codemirror_mode": {
    "name": "ipython",
    "version": 3
   },
   "file_extension": ".py",
   "mimetype": "text/x-python",
   "name": "python",
   "nbconvert_exporter": "python",
   "pygments_lexer": "ipython3",
   "version": "3.13.1"
  }
 },
 "nbformat": 4,
 "nbformat_minor": 2
}
