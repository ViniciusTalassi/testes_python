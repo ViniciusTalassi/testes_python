{
 "cells": [
  {
   "cell_type": "code",
   "execution_count": 5,
   "metadata": {},
   "outputs": [
    {
     "name": "stdout",
     "output_type": "stream",
     "text": [
      "MULTADO! Você excedeu o limite permitido que é de 80Km/h\n",
      "Você deve pagar uma multa de R$280.00\n",
      "Tenha um bom dia! Dirija com segurança!\n"
     ]
    }
   ],
   "source": [
    "vel = int(input('Qual é a velocidade atual do carro?'))\n",
    "if vel>80:\n",
    "    print('MULTADO! Você excedeu o limite permitido que é de 80Km/h')\n",
    "    multa = (vel - 80) * 7\n",
    "    print('Você deve pagar uma multa de R${:.2f}'.format(multa))\n",
    "print('Tenha um bom dia! Dirija com segurança!')"
   ]
  }
 ],
 "metadata": {
  "kernelspec": {
   "display_name": "Python 3",
   "language": "python",
   "name": "python3"
  },
  "language_info": {
   "codemirror_mode": {
    "name": "ipython",
    "version": 3
   },
   "file_extension": ".py",
   "mimetype": "text/x-python",
   "name": "python",
   "nbconvert_exporter": "python",
   "pygments_lexer": "ipython3",
   "version": "3.13.1"
  }
 },
 "nbformat": 4,
 "nbformat_minor": 2
}
